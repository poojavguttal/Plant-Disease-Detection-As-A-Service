{
 "cells": [
  {
   "cell_type": "code",
   "execution_count": null,
   "id": "249be3d0-a507-47c0-b3ec-40be42ceb0a0",
   "metadata": {},
   "outputs": [],
   "source": [
    "# Import libraries\n",
    "import os, shutil, random, yaml\n",
    "from pathlib import Path\n",
    "from PIL import Image\n",
    "from tqdm import tqdm\n",
    "from sklearn.model_selection import train_test_split"
   ]
  },
  {
   "cell_type": "code",
   "execution_count": null,
   "id": "14a1dcb7-64ce-4c06-8070-b55743359d6a",
   "metadata": {},
   "outputs": [],
   "source": [
    "# Set up data path\n",
    "RAW_DIR = Path(\"/app/data/raw/PlantVillage\")\n",
    "INTERIM_DIR = Path(\"/app/data/interim\")\n",
    "PROCESSED_DIR = Path(\"/app/data/processed\")"
   ]
  },
  {
   "cell_type": "code",
   "execution_count": null,
   "id": "e799c7dc-df94-4c42-9836-f61f72a8ab00",
   "metadata": {},
   "outputs": [],
   "source": [
    "# Check if a file path has a valid image extension\n",
    "# to filter out non-image files in the dataset folders\n",
    "def is_image(p: Path):\n",
    "    return p.suffix.lower() in [\".jpg\", \".jpeg\", \".png\"]\n",
    "\n",
    "# Loads preprocessing parameters (which crops to include, image size, \n",
    "# train/val/test ratios) from a YAML configuration file. This keeps\n",
    "# preprocessing flexible and configurable without editing code\n",
    "def load_config():\n",
    "    with open(\"/app/configs/classes.yaml\", \"r\") as f:\n",
    "        return yaml.safe_load(f)"
   ]
  },
  {
   "cell_type": "code",
   "execution_count": null,
   "id": "043e4ce0-7de2-4023-8054-0ce6e8b515c8",
   "metadata": {},
   "outputs": [],
   "source": [
    "# Find all subfolders in the raw dataset that correspond \n",
    "# to selected crops (e.g., Tomato___Early_blight)\n",
    "def collect_class_paths(raw_dir: Path, crops):\n",
    "    \"\"\"\n",
    "    Assumes PlantVillage structure like:\n",
    "    PlantVillage/<ClassName>/*.jpg\n",
    "    Where <ClassName> often contains crop + disease (e.g., 'Tomato___Early_blight').\n",
    "    \"\"\"\n",
    "    class_dirs = []\n",
    "    for d in raw_dir.iterdir():\n",
    "        if d.is_dir() and any(d.name.startswith(c) for c in crops):\n",
    "            class_dirs.append(d)\n",
    "    return class_dirs"
   ]
  },
  {
   "cell_type": "code",
   "execution_count": null,
   "id": "2376df73-5c68-4e9a-b31d-804fffe64444",
   "metadata": {},
   "outputs": [],
   "source": [
    "# Copy only the filtered crop folders (and their images) into an intermediate \n",
    "# directory to keep a clean, lightweight subset of the original dataset\n",
    "def copy_filtered(class_dirs):\n",
    "    INTERIM_DIR.mkdir(parents=True, exist_ok=True)\n",
    "    for d in class_dirs:\n",
    "        out = INTERIM_DIR / d.name\n",
    "        out.mkdir(exist_ok=True, parents=True)\n",
    "        for img in d.glob(\"*\"):\n",
    "            if is_image(img):\n",
    "                dest = out / img.name\n",
    "                if not dest.exists():\n",
    "                    shutil.copy2(img, dest)"
   ]
  },
  {
   "cell_type": "code",
   "execution_count": null,
   "id": "784fb302-f626-46f9-b319-732b43f6b7e9",
   "metadata": {},
   "outputs": [],
   "source": [
    "# Resizes images to a uniform shape (224×224) and divides them into train/, \n",
    "# val/, and test/ folders. Creates directories under data/processed/train/, \n",
    "# /val/, /test/, and saves resized copies of all images there\n",
    "def resize_and_split(image_size, val_ratio, test_ratio, min_images=1):\n",
    "    # Build class -> file list\n",
    "    classes = sorted([p.name for p in INTERIM_DIR.iterdir() if p.is_dir()])\n",
    "    splits = [\"train\",\"val\",\"test\"]\n",
    "    for s in splits:\n",
    "        (PROCESSED_DIR / s).mkdir(parents=True, exist_ok=True)\n",
    "\n",
    "    for cls in classes:\n",
    "        files = [p for p in (INTERIM_DIR/cls).iterdir() if is_image(p)]\n",
    "        if len(files) < min_images:\n",
    "            print(f\"Skipping {cls}: only {len(files)} images\")\n",
    "            continue\n",
    "\n",
    "        train_files, tmp = train_test_split(files, test_size=(val_ratio+test_ratio), random_state=42, shuffle=True)\n",
    "        rel = test_ratio/(val_ratio+test_ratio) if (val_ratio+test_ratio) > 0 else 0\n",
    "        val_files, test_files = train_test_split(tmp, test_size=rel, random_state=42, shuffle=True)\n",
    "\n",
    "        for subset, subset_files in [(\"train\", train_files), (\"val\", val_files), (\"test\", test_files)]:\n",
    "            out_dir = PROCESSED_DIR / subset / cls\n",
    "            out_dir.mkdir(parents=True, exist_ok=True)\n",
    "            for src in tqdm(subset_files, desc=f\"{cls}:{subset}\"):\n",
    "                try:\n",
    "                    img = Image.open(src).convert(\"RGB\")\n",
    "                    img = img.resize((image_size, image_size), Image.BILINEAR)\n",
    "                    # normalization usually happens at training time; we store resized RGB\n",
    "                    img.save(out_dir / src.name, quality=95)\n",
    "                except Exception as e:\n",
    "                    print(\"Bad image:\", src, e)"
   ]
  },
  {
   "cell_type": "code",
   "execution_count": null,
   "id": "37a6682f-3985-41a1-9de1-0914ac38af57",
   "metadata": {},
   "outputs": [],
   "source": [
    "# Main function\n",
    "def main():\n",
    "    cfg = load_config()\n",
    "    crops = cfg[\"include_crops\"]\n",
    "    class_dirs = collect_class_paths(RAW_DIR, crops)\n",
    "    print(f\"Selected classes ({len(class_dirs)}):\", [d.name for d in class_dirs])\n",
    "    copy_filtered(class_dirs)\n",
    "    resize_and_split(\n",
    "        image_size=cfg[\"image_size\"],\n",
    "        val_ratio=cfg[\"val_ratio\"],\n",
    "        test_ratio=cfg[\"test_ratio\"],\n",
    "        min_images=cfg.get(\"min_images_per_class\", 1)\n",
    "    )\n",
    "    print(\"Done. Processed data at:\", PROCESSED_DIR)"
   ]
  },
  {
   "cell_type": "code",
   "execution_count": null,
   "id": "6007aea7-2496-4910-b448-321d04cef8a1",
   "metadata": {},
   "outputs": [],
   "source": []
  }
 ],
 "metadata": {
  "kernelspec": {
   "display_name": "Python 3 (ipykernel)",
   "language": "python",
   "name": "python3"
  },
  "language_info": {
   "codemirror_mode": {
    "name": "ipython",
    "version": 3
   },
   "file_extension": ".py",
   "mimetype": "text/x-python",
   "name": "python",
   "nbconvert_exporter": "python",
   "pygments_lexer": "ipython3",
   "version": "3.10.9"
  }
 },
 "nbformat": 4,
 "nbformat_minor": 5
}
